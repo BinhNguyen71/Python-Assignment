{
 "cells": [
  {
   "cell_type": "markdown",
   "metadata": {},
   "source": [
    "The “distance to frontier model” and credit constraints\n",
    "==============\n",
    "**_This model is from the course: Seminar Growth and Regional Development, November 25th, 2016._**\n",
    "\n",
    "**Group members:**\n",
    "\n",
    "|Name|ANR|\n",
    "|:----:|:-----:|\n",
    "|Binh Nguyen|150141|\n",
    "|Fizzah Malik|150141|\n",
    "|Ananya Velamakanni|150141|\n",
    "\n",
    "\n",
    "January 31st, 2017"
   ]
  },
  {
   "cell_type": "markdown",
   "metadata": {},
   "source": [
    "### I. Research Question\n",
    "Based on the model of Aghion, Howitt, and Mayer-Foulkes (2005), what are the effects of *(1) credit market development* and *(2) slowdown of growth in the leading economies* on the growth in a country with poorly developed credit markets?"
   ]
  },
  {
   "cell_type": "markdown",
   "metadata": {},
   "source": [
    "### II. Motivation\n",
    "\n",
    "Economic growth is of interest of not only economists and policy-makers, but also everyone else in society because it has direct impact on employment, individual prosperity, social welfare, the environment, etc. There have been several explanations for the driving factors behind the growth of countries, either endogenously or exogenously. Among these various models, the Schumpeterian model the one focusing on quality-improving innovations that replace the existing technology and thus improve productivity in each industry. However, some countries may face a \"poverty trap\" that limits their growth rates and causes growing gap between them and other developed countries (*divergence*). Therefore, it is critical to understand what lead to this divergence in order to break the cycle. \n",
    "\n",
    "The model of Aghion, Howitt, and Mayer-Foulkes (2005) studied the role of credit constraints as a source of divergence in a multicountry Schumpeterian growth model. The growth rate of developed countries can also affect technological changes in developing countries. We would like to see through which mechanism do these factors work and how big the effects are."
   ]
  },
  {
   "cell_type": "markdown",
   "metadata": {},
   "source": [
    "### III. Method\n",
    "We will rebuid the Schumpeterian model with the presence of credit constraint in the innovation activities to find out how a country's proximity to technology frontier in one period is a linear function of the proximity in the previous period, with parameters depends on credit constraints (credit multiplier) and the growth rate of the most developed country (the frontier). Then we make some assumptions on the parameters and run a simulation on development paths of technology."
   ]
  },
  {
   "cell_type": "markdown",
   "metadata": {},
   "source": [
    "### IV. Answers\n",
    "1. The more developed the credit market of a country is, the easier it is to invest in R&D and therefore the higher the probability to innovate sucessfully. However, once the credit market develops to a certain level, it won’t cast any effect on the economy development anymore because the optimal amount of investment is much lower than what the credit constraint allows.\n",
    "2. In case there is no innovation/innovation without credit constraint, the country either still stagnate in the long run, or it will reach the optimal level of technological growth rate.\n",
    "3. The slow down in growth rate of the most developed country will bring the developing country closer to the world frontier productivity level. Nevertheless, the effect is small."
   ]
  },
  {
   "cell_type": "markdown",
   "metadata": {},
   "source": [
    "### V. Main Assumptions\n",
    "+ Time is discrete\n",
    "+ Credit markets are imperfect\n",
    "+ There are 2 sectors in the economy: production and innovation.\n",
    "+ Individuals live for 2 periods and have linear preferences in consumption.\n",
    "\t+ In period t-1: people work in firms and earn wage w<sub>t-1</sub> (the only source of financing their ideas in period t.)\n",
    "\t+ In period t: entrepreneurs (people of period t) can borrow money to invest in innovation besides their own endowment w<sub>t-1</sub>. The borrowing constraint is a fixed multiple v, which brings the investment amount to vw<sub>t-1</sub>. This multiplier comes from the possibility that an entrepreneur may not give back the borrowed money.\n",
    "+ There is only one final good produced by labor L = 1 and intermediate products x<sub>it</sub> with productivity parameter A<sub>it</sub>:\n",
    "<center>$Y_t= \\int_0^1\\mathrm{A_{it}}^{1-\\alpha}{x_{it}}^{\\alpha}\\,\\mathrm{di}\\quad$(with $0<\\alpha<1$)  **(1)**</center>\n",
    "\n",
    "+ The final good is produced under perfect competition so the price of each intermediate good equals its marginal product:\n",
    "<center>$p_{it} = {\\alpha}A_{it}^{1-\\alpha}x_{it}^{\\alpha-1}$ </center>\n",
    "\n",
    "+ In the period t, the developing country's productivity parameter is $A_t$ and productivity level of the world technology frontier is $\\bar{A}_t$. We can measure the country's \"distance to frontier\" (or proximity to technology frontier) as $a_t = A_t/\\bar{A}_t$.  **(2)**\n",
    "\n",
    "+ The country's final good production only grows by the advance in technology/productivity. Therefore, the growth rates in period t of both the economy and aggregate productivity parameter $A_t$ are $g_t$."
   ]
  },
  {
   "cell_type": "markdown",
   "metadata": {},
   "source": [
    "### VI. Execution\n",
    "#### 1.Theoretical background of the model\n",
    "**Notations:**\n",
    "\n",
    "|Notations|Explanation|\n",
    "|:----:|:-----:|\n",
    "|$x_{it}$|The amount of intermediate good i produced in period t in production sector|\n",
    "|$p_{it}$|Sales price of good i in period t|\n",
    "|$\\Pi_{it}$|Profit of good i in period t in production sector|\n",
    "|$A_{it}$|Productivity parameter of good i in period t|\n",
    "|$Y_{t}$|Total output of the final good of the economy in period t|\n",
    "|$R_{it}$|R&D expenditure of good i in period t|\n",
    "|$\\bar{A}_t$|Target productivity level at world technology frontier in period t|\n",
    "|$n_{it}$|Research cost adjusted to current productivity of good i in period t|\n",
    "|$\\mu_{t}$|Research success probability in period t|\n",
    "|$v$|Credit multiplier|\n",
    "|$w_t$|Wage in period t|\n",
    "\n",
    "**- Production:** Each monopolist who produces good i in period t faces the following profit maximazation problem:\n",
    "$$\\max_{x_{it}}\\Pi_{it}=\\max_{x_{it}}(p_{it}x_{it}-x_{it})=\\max_{x_{it}}({\\alpha}A_{it}^{1-\\alpha}x_{it}^{\\alpha}-x_{it})$$\n",
    "FOC: ${\\alpha^2}A_{it}^{1-\\alpha}x_{it}^{\\alpha-1} - 1 = 0 \\quad \\Rightarrow \\quad \\mathbf x_{it}^{\\ast}={\\alpha}^\\frac{2}{1-\\alpha}A_{it}$\n",
    "\n",
    "<center>$\\Rightarrow \\quad \\Pi_{it}^{\\ast}={\\alpha}A_{it}^{1-\\alpha}x_{it}^{\\ast\\alpha}-x_{it}^{\\ast}={\\alpha}A_{it}^{1-\\alpha}({\\alpha}^\\frac{2}{1-\\alpha}A_{it})^{\\alpha}-{\\alpha}^\\frac{2}{1-\\alpha}A_{it}=(1-\\alpha){\\alpha}^\\frac{1+\\alpha}{1-\\alpha}A_{it}$ **(3)**</center>\n",
    "\n",
    "Set $\\pi=(1-\\alpha){\\alpha}^\\frac{1+\\alpha}{1-\\alpha} \\quad \\Rightarrow \\quad \\mathbf \\Pi_{it}^{\\ast}=\\pi{A_{it}}$    **(4)**\n",
    "\n",
    "Final output: ${Y_t}^{\\ast}= \\int_0^1\\mathrm{A_{it}}^{1-\\alpha}{x_{it}}^{\\ast\\alpha}\\,\\mathrm{di} = {\\alpha}^\\frac{2\\alpha}{1-\\alpha}A_t \\quad \\Rightarrow \\quad \\mathbf {Y_t}^{\\ast}= {\\alpha}^\\frac{2\\alpha}{1-\\alpha}A_t$  **(5)**\n",
    "\n",
    "GDP: ${GDP_t}^{\\ast}= Y_t - \\int_0^1\\mathrm{x_{it}}^{\\ast\\alpha}\\,\\mathrm{di} = {\\alpha}^\\frac{2\\alpha}{1-\\alpha}A_t - {\\alpha}^\\frac{2}{1-\\alpha}A_t = (1-{\\alpha}^2){\\alpha}^\\frac{2\\alpha}{1-\\alpha}A_t \\quad \\Rightarrow \\quad \\mathbf {GDP_t}^{\\ast}= (1-{\\alpha}^2){\\alpha}^\\frac{2\\alpha}{1-\\alpha}A_t$  **(6)**\n",
    "\n",
    "**- Innovation constraint:** For good i, at the period t, productivity-adjusted cost is: $n_{it}=\\frac{R_{it}}{\\bar{A}_t} \\Rightarrow R_{it} = n_{it}{\\bar{A}_t}$\n",
    "\n",
    "Moreover, the innovator's success probability is an increasing function of productivity-adjusted cost (the bigger amount of investments, the higher chance to innovate sucessfully). Or we can write the productivity-adjusted cost as a function of success probability:\n",
    "\n",
    "<center>$n_{it}=\\eta\\mu_t+\\frac{\\psi\\mu_t^2}{2}$ **(7)**</center>\n",
    "\n",
    "The innovator face a borrowing constraint that limits her investment to a fixed multiple v of her wage in period t-1. Wage is the marginal product of labor $\\rightarrow$ from (1) we have:\n",
    "$$w_{t-1} = {Y' }_{t-1} = (1-\\alpha)\\int_0^1\\mathrm{A_{i,t-1}}^{1-\\alpha}{x_{i,t-1}}^{\\alpha}\\,\\mathrm{di} = (1-\\alpha)\\alpha^\\frac{2\\alpha}{1-\\alpha}A_{t-1}$$\n",
    "Set $\\omega=(1-\\alpha)\\alpha^\\frac{2\\alpha}{1-\\alpha}\\quad \\Rightarrow \\quad \\mathbf w_{t-1} =\\omega A_{t-1}$ **(8)**\n",
    "\n",
    "From (2) we have: $a_{t-1} = A_{t-1}/\\bar{A}_{t-1}$ **(9)**\n",
    "\n",
    "The growth rate of technology frontier from period t-1 to period t is $g = \\frac{\\bar{A}_t-\\bar{A}_{t-1}}{\\bar{A}_{t-1}}$\n",
    "\n",
    "<center>$\\Rightarrow \\quad g = \\frac{\\bar{A}_t}{\\bar{A}_{t-1}}-1 \\quad \\Rightarrow \\quad g + 1 = \\frac{\\bar{A}_t}{\\bar{A}_{t-1}}$ **(10)**</center>\n",
    "\n",
    "The maximum feasible total R&D expenditure is v times the wage in period t-1: $\\sum{R_{it}} = R_t \\le vw_{t-1}$\n",
    "\n",
    "<center>$\\Rightarrow \\quad n_{it}{\\bar{A}_t} \\le vw_{t-1}\\quad \\Rightarrow \\quad n_{it} \\le {vw_{t-1}}/{{\\bar{A}_t} }$  **(11)**</center>\n",
    "\n",
    "Substitute (7), (8), (9), and (10) to (11), we have:\n",
    "$$(\\eta\\mu_t+\\frac{\\psi\\mu_t^2}{2})\\le v\\omega \\frac{A_{t-1}}{\\bar{A}_t}\\quad \\Rightarrow \\quad \\eta\\mu_t+\\frac{\\psi\\mu_t^2}{2} \\le v\\omega\\frac{A_{t-1}}{{\\bar{A}_{t-1}}}\\frac{\\bar{A}_{t-1}}{{\\bar{A}_t}} = v\\omega a_{t-1}\\frac{1}{g+1}$$\n",
    "\n",
    "Set $\\bar\\omega=\\frac{\\omega}{1+g} \\quad \\Rightarrow \\quad \\eta\\mu_t+\\frac{\\psi\\mu_t^2}{2} \\le v\\bar\\omega a_{t-1}\\quad \\Rightarrow \\quad \\psi\\mu_t^2 + 2\\eta\\mu_t - 2 v\\bar\\omega a_{t-1} \\le 0$  **(12)**\n",
    "\n",
    "Solving **(12)** at equality gives us one positive value of $\\mu_t$ that is $\\bar\\mu_t$, which is the maximum innovation probability when there is credit constraint (which actually depends on the maximum amount of money that the banking system has.) \n",
    "$$\\bar\\mu_t = \\frac{\\sqrt{2\\psi v\\bar\\omega a_{t-1}+\\eta^2}-\\eta}{\\psi}\\quad (13)$$\n",
    "\n",
    "This probability is an increasing function of credit multiplier v and the proximity-to-frontier of previous period $a_{t-1}$. We will use Python to solve for the value of $\\bar\\mu_t$ in the simulation.\n",
    "\n",
    "**- Innovation optimization:** In period t, each innovator for good i also faces with a pay-off maximization problem. Pay-off of innovator is equal to probability of success ($\\mu_it$) times the production profit received once success ($\\Pi_{it}$), minus the R&D expenditure ($R_{it}$). The innovator will choose $\\mu_{it}$ to maximize pay-off:\n",
    "$$\\max_{\\mu_{it}}\\mu_{it}\\Pi_{it} - R_{it} = \\max_{\\mu_it}(\\mu_{it} \\pi A_{it}-n_{it}A_{it})=\\max_{\\mu_{it}}(\\mu_{it} \\pi - n_{it})A_{it} = \\max_{\\mu_{it}}(\\mu_{it} \\pi - \\eta\\mu_t-\\frac{\\psi\\mu_t^2}{2})A_{it}$$\n",
    "FOC: $(\\pi - \\eta-\\psi{\\mu^\\ast}_t)A_{it} = 0 \\quad A_{it} >0 \\quad \\Rightarrow \\quad \\mathbf {\\mu^\\ast}_t=(\\pi-\\eta)/\\psi \\quad$ **(14)**\n",
    "\n",
    "(14) give us the optimal probability of innovation when there is perfectly functioning financial market. The possible cases are:\n",
    "+ In order for the probability to innovate ${\\mu^\\ast}_t \\in (0,1)$, we also assume that $\\pi< \\eta + \\psi$\n"
   ]
  },
  {
   "cell_type": "markdown",
   "metadata": {},
   "source": [
    "#### 2.Simulation"
   ]
  },
  {
   "cell_type": "markdown",
   "metadata": {},
   "source": [
    "#### 3. Conclusion"
   ]
  }
 ],
 "metadata": {
  "anaconda-cloud": {},
  "kernelspec": {
   "display_name": "Python [Root]",
   "language": "python",
   "name": "Python [Root]"
  },
  "language_info": {
   "codemirror_mode": {
    "name": "ipython",
    "version": 2
   },
   "file_extension": ".py",
   "mimetype": "text/x-python",
   "name": "python",
   "nbconvert_exporter": "python",
   "pygments_lexer": "ipython2",
   "version": "2.7.12"
  }
 },
 "nbformat": 4,
 "nbformat_minor": 0
}
