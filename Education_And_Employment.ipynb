{
 "cells": [
  {
   "cell_type": "markdown",
   "metadata": {},
   "source": [
    "Labor Force Participation in Western European countries\n",
    "==============\n",
    "January 31st, 2017\n",
    "\n",
    "**Group members:**\n",
    "\n",
    "|Name|ANR|\n",
    "|:----:|:-----:|\n",
    "|Binh Nguyen|150141|\n",
    "|Fizzah Malik|975391|\n",
    "|Ananya Velamakanni|349166|\n",
    "\n",
    "This notebook applys python in conducting an empirical research. We examine the relation between education and labor force participation by using linear regression and logistic models. The python code and data used in this notebook can be found at [github](https://github.com/BinhNguyen71/Python-Assignment)."
   ]
  },
  {
   "cell_type": "markdown",
   "metadata": {},
   "source": [
    "## I. Research Question\n",
    "What is the impact of education in increasing labor force participation in Western European countries?"
   ]
  },
  {
   "cell_type": "markdown",
   "metadata": {},
   "source": [
    "## II. Motivation\n",
    "The European Union has seen a slow rise in labor force participation over the last few years. With more and more people experiencing low job-finding rates, it is interesting to see what the level of education attainment could have to encourage people to look for jobs.  The relation between an individual’s education and his/her participation in the labor force has been the topic of numerous studies. Economists have established the various relations between labor force participation, education, age, number of children and so on. For instance, [Kennedy, Stoney and Vance](#Reference) examined changes in labor force participation rates for people with different levels of education by analyzing trends in an Australian Census data (1981-2006).They have focused on the population, participation and productivity as the drivers of future economic growth. Their data and analysis provides evidence of a strong positive correlation and a causal link between educational attainment and labor force participation.\n",
    "\n",
    "Furthermore, [Edward Bbale and Paul Mpuga](#Reference) have used the maximum likelihood method to test the fairly the same hypothesis that we are proposing using data from Uganda Demographic Survey 2006. The dependent variable used is a dummy variable (Y=1 if in labor force) and the independent variable is a vector summing up factors, such as, age, marital status, education etc. Their results confirm that education increases the likelihood to be employed."
   ]
  },
  {
   "cell_type": "markdown",
   "metadata": {},
   "source": [
    "## III. Method\n",
    "+ Firstly, we check the data downloaded from easyShare (eyeballing raw data), calculate some simple statistics and make some graphs to get a first idea about the data and the findings. [*(Descriptive Statistics)*](#Descriptive Statistics)\n",
    "+ Then we run some regression analysis to examine the relation between labor force participation and education, as well as some other covariates. We conduct both simple linear regression and multiple regression. [*(OLS Regression)*](#OLS Regression)\n",
    "+ Lastly, we run a logistic regression because it fits with the binary dependent variable we have from the data more than the OLS regression model.[*(Logistic Regression)*](#Logistic Regression)"
   ]
  },
  {
   "cell_type": "markdown",
   "metadata": {},
   "source": [
    "## IV. Main Assumptions\n",
    "1. The dependent variable is the binary *emp*, which is equal to 1 if the individual is currently participating in the labor force, and 0 otherwise.\n",
    "\n",
    "2. Our key variable of interest is *educ*, which is the number of years of educations attained by an individual. \n",
    "\n",
    "3. In order to conduct an OLS regression, we are implicitly assuming the key five assumptions of linear regression:\n",
    "    + Linear relationship.\n",
    "    + Multivariate normality.\n",
    "    + No or little multicollinearity.\n",
    "    + No auto-correlation.\n",
    "    + Homoscedasticity.\n",
    "\n",
    "4. In addition to the above, logistic regression requires the dependent variable to be binary. It also assumes that P(Y=1) is the probability of the event occurring, in our case that is the being employed. The error terms need to be independent and the data is from an independent sample. More importantly, the logisitic regression (linear probability model) is heteroskedastic by nature."
   ]
  },
  {
   "cell_type": "markdown",
   "metadata": {},
   "source": [
    "## V. Answers\n",
    "\n",
    "1. There is a causal effect between the number of years of education and labor force participation in Western European countries. \n",
    "2. The probability of being employed gradually increases as level of education rises.\n",
    "3. The effect seems to be small, but statistically significant."
   ]
  },
  {
   "cell_type": "markdown",
   "metadata": {},
   "source": [
    "## VI. Execution\n",
    "### 1. Descriptive Statistics <a id='Descriptive Statistics'></a>\n",
    "The data has been extracted from the [easySHARE data set](https://github.com/BinhNguyen71/Python-Assignment/blob/master/Data.xlsx). We only use the necessary data from wave 2. The data consists information about gender *(female)*, age *(age)*, years of education *(educ)*, household size *(hhsize)*, the number of children in the household *(child)*, and employment status *(emp)* of 7305 subjects across 10 Western European countries namely Austria, Belgium, Denmark, France, Germany, Italy, The Netherlands, Spain, Sweden and Switzerland. The main dependent variable *emp*, which indicates whether the subject is employed or unemployed, is the dummy variable (1 if employed and 0 if unemployed).  The mode of employment status, being 1 for each country, indicates that there are more people employed than unemployed in each of the countries in the sample. This is a clear conclusion as the countries under study are all developed economies."
   ]
  },
  {
   "cell_type": "code",
   "execution_count": 1,
   "metadata": {
    "collapsed": false
   },
   "outputs": [],
   "source": [
    "# Imported packages:\n",
    "# Statsmodels for statistical analysis\n",
    "# Numpy and Pandas for data handling and analysis\n",
    "# Matplotlib and Plotly for plotting\n",
    "\n",
    "import statsmodels.formula.api as smf\n",
    "from statsmodels.formula.api import ols\n",
    "import statsmodels.api as sm\n",
    "import pandas as pd\n",
    "import numpy as np\n",
    "import matplotlib.pyplot as plt\n",
    "import plotly.plotly as py\n",
    "import plotly.graph_objs as go\n",
    "from plotly.graph_objs import Figure, Bar\n",
    "from numpy import arange,array,ones\n",
    "from matplotlib import pylab\n",
    "plt.style.use('ggplot')\n",
    "%matplotlib inline"
   ]
  },
  {
   "cell_type": "code",
   "execution_count": 2,
   "metadata": {
    "collapsed": false,
    "scrolled": true
   },
   "outputs": [
    {
     "data": {
      "text/html": [
       "<div>\n",
       "<table border=\"1\" class=\"dataframe\">\n",
       "  <thead>\n",
       "    <tr style=\"text-align: right;\">\n",
       "      <th></th>\n",
       "      <th>count</th>\n",
       "      <th>mean</th>\n",
       "      <th>std</th>\n",
       "      <th>min</th>\n",
       "      <th>25%</th>\n",
       "      <th>50%</th>\n",
       "      <th>75%</th>\n",
       "      <th>max</th>\n",
       "    </tr>\n",
       "  </thead>\n",
       "  <tbody>\n",
       "    <tr>\n",
       "      <th>emp</th>\n",
       "      <td>7305.0</td>\n",
       "      <td>0.916085</td>\n",
       "      <td>0.277279</td>\n",
       "      <td>0.0</td>\n",
       "      <td>1.0</td>\n",
       "      <td>1.0</td>\n",
       "      <td>1.0</td>\n",
       "      <td>1.0</td>\n",
       "    </tr>\n",
       "    <tr>\n",
       "      <th>female</th>\n",
       "      <td>7305.0</td>\n",
       "      <td>0.507187</td>\n",
       "      <td>0.499983</td>\n",
       "      <td>0.0</td>\n",
       "      <td>0.0</td>\n",
       "      <td>1.0</td>\n",
       "      <td>1.0</td>\n",
       "      <td>1.0</td>\n",
       "    </tr>\n",
       "    <tr>\n",
       "      <th>age</th>\n",
       "      <td>7305.0</td>\n",
       "      <td>55.767379</td>\n",
       "      <td>4.790684</td>\n",
       "      <td>28.2</td>\n",
       "      <td>52.5</td>\n",
       "      <td>55.5</td>\n",
       "      <td>58.8</td>\n",
       "      <td>85.4</td>\n",
       "    </tr>\n",
       "    <tr>\n",
       "      <th>educ</th>\n",
       "      <td>7305.0</td>\n",
       "      <td>12.634908</td>\n",
       "      <td>3.985183</td>\n",
       "      <td>0.0</td>\n",
       "      <td>10.0</td>\n",
       "      <td>13.0</td>\n",
       "      <td>15.0</td>\n",
       "      <td>25.0</td>\n",
       "    </tr>\n",
       "    <tr>\n",
       "      <th>hhsize</th>\n",
       "      <td>7305.0</td>\n",
       "      <td>2.565229</td>\n",
       "      <td>1.098339</td>\n",
       "      <td>1.0</td>\n",
       "      <td>2.0</td>\n",
       "      <td>2.0</td>\n",
       "      <td>3.0</td>\n",
       "      <td>9.0</td>\n",
       "    </tr>\n",
       "    <tr>\n",
       "      <th>child</th>\n",
       "      <td>7305.0</td>\n",
       "      <td>2.106092</td>\n",
       "      <td>1.237245</td>\n",
       "      <td>0.0</td>\n",
       "      <td>1.0</td>\n",
       "      <td>2.0</td>\n",
       "      <td>3.0</td>\n",
       "      <td>10.0</td>\n",
       "    </tr>\n",
       "  </tbody>\n",
       "</table>\n",
       "</div>"
      ],
      "text/plain": [
       "         count       mean       std   min   25%   50%   75%   max\n",
       "emp     7305.0   0.916085  0.277279   0.0   1.0   1.0   1.0   1.0\n",
       "female  7305.0   0.507187  0.499983   0.0   0.0   1.0   1.0   1.0\n",
       "age     7305.0  55.767379  4.790684  28.2  52.5  55.5  58.8  85.4\n",
       "educ    7305.0  12.634908  3.985183   0.0  10.0  13.0  15.0  25.0\n",
       "hhsize  7305.0   2.565229  1.098339   1.0   2.0   2.0   3.0   9.0\n",
       "child   7305.0   2.106092  1.237245   0.0   1.0   2.0   3.0  10.0"
      ]
     },
     "execution_count": 2,
     "metadata": {},
     "output_type": "execute_result"
    }
   ],
   "source": [
    "# Reading data from excel file and basic statistics summary of each variables\n",
    "data = pd.read_excel('C:\\Users\\Binh Nguyen\\Desktop\\Data.xlsx')\n",
    "data.describe().transpose ()"
   ]
  },
  {
   "cell_type": "code",
   "execution_count": 3,
   "metadata": {
    "collapsed": false
   },
   "outputs": [
    {
     "data": {
      "text/html": [
       "<div>\n",
       "<table border=\"1\" class=\"dataframe\">\n",
       "  <thead>\n",
       "    <tr style=\"text-align: right;\">\n",
       "      <th></th>\n",
       "      <th>emp</th>\n",
       "      <th>educ</th>\n",
       "      <th>female</th>\n",
       "      <th>age</th>\n",
       "      <th>hhsize</th>\n",
       "      <th>child</th>\n",
       "    </tr>\n",
       "    <tr>\n",
       "      <th>country</th>\n",
       "      <th></th>\n",
       "      <th></th>\n",
       "      <th></th>\n",
       "      <th></th>\n",
       "      <th></th>\n",
       "      <th></th>\n",
       "    </tr>\n",
       "  </thead>\n",
       "  <tbody>\n",
       "    <tr>\n",
       "      <th>Austria</th>\n",
       "      <td>1</td>\n",
       "      <td>8.0</td>\n",
       "      <td>1</td>\n",
       "      <td>54.8</td>\n",
       "      <td>2</td>\n",
       "      <td>2</td>\n",
       "    </tr>\n",
       "    <tr>\n",
       "      <th>Belgium</th>\n",
       "      <td>1</td>\n",
       "      <td>12.0</td>\n",
       "      <td>0</td>\n",
       "      <td>55.8</td>\n",
       "      <td>2</td>\n",
       "      <td>2</td>\n",
       "    </tr>\n",
       "    <tr>\n",
       "      <th>Denmark</th>\n",
       "      <td>1</td>\n",
       "      <td>14.0</td>\n",
       "      <td>1</td>\n",
       "      <td>52.3</td>\n",
       "      <td>2</td>\n",
       "      <td>2</td>\n",
       "    </tr>\n",
       "    <tr>\n",
       "      <th>France</th>\n",
       "      <td>1</td>\n",
       "      <td>12.0</td>\n",
       "      <td>1</td>\n",
       "      <td>50.8</td>\n",
       "      <td>2</td>\n",
       "      <td>2</td>\n",
       "    </tr>\n",
       "    <tr>\n",
       "      <th>Germany</th>\n",
       "      <td>1</td>\n",
       "      <td>12.0</td>\n",
       "      <td>1</td>\n",
       "      <td>56.3</td>\n",
       "      <td>2</td>\n",
       "      <td>2</td>\n",
       "    </tr>\n",
       "    <tr>\n",
       "      <th>Italy</th>\n",
       "      <td>1</td>\n",
       "      <td>13.0</td>\n",
       "      <td>0</td>\n",
       "      <td>51.6</td>\n",
       "      <td>4</td>\n",
       "      <td>2</td>\n",
       "    </tr>\n",
       "    <tr>\n",
       "      <th>Netherlands</th>\n",
       "      <td>1</td>\n",
       "      <td>10.0</td>\n",
       "      <td>0</td>\n",
       "      <td>53.3</td>\n",
       "      <td>2</td>\n",
       "      <td>2</td>\n",
       "    </tr>\n",
       "    <tr>\n",
       "      <th>Spain</th>\n",
       "      <td>1</td>\n",
       "      <td>8.0</td>\n",
       "      <td>0</td>\n",
       "      <td>50.9</td>\n",
       "      <td>3</td>\n",
       "      <td>2</td>\n",
       "    </tr>\n",
       "    <tr>\n",
       "      <th>Sweden</th>\n",
       "      <td>1</td>\n",
       "      <td>12.0</td>\n",
       "      <td>1</td>\n",
       "      <td>55.8</td>\n",
       "      <td>2</td>\n",
       "      <td>2</td>\n",
       "    </tr>\n",
       "    <tr>\n",
       "      <th>Switzerland</th>\n",
       "      <td>1</td>\n",
       "      <td>12.0</td>\n",
       "      <td>1</td>\n",
       "      <td>52.8</td>\n",
       "      <td>2</td>\n",
       "      <td>2</td>\n",
       "    </tr>\n",
       "  </tbody>\n",
       "</table>\n",
       "</div>"
      ],
      "text/plain": [
       "             emp  educ  female   age  hhsize  child\n",
       "country                                            \n",
       "Austria        1   8.0       1  54.8       2      2\n",
       "Belgium        1  12.0       0  55.8       2      2\n",
       "Denmark        1  14.0       1  52.3       2      2\n",
       "France         1  12.0       1  50.8       2      2\n",
       "Germany        1  12.0       1  56.3       2      2\n",
       "Italy          1  13.0       0  51.6       4      2\n",
       "Netherlands    1  10.0       0  53.3       2      2\n",
       "Spain          1   8.0       0  50.9       3      2\n",
       "Sweden         1  12.0       1  55.8       2      2\n",
       "Switzerland    1  12.0       1  52.8       2      2"
      ]
     },
     "execution_count": 3,
     "metadata": {},
     "output_type": "execute_result"
    }
   ],
   "source": [
    "#Calculating modes (since this is a better descriptor for binary data like emp)\n",
    "data.groupby('country')['emp', 'educ','female' , 'age', 'hhsize' , 'child'].agg(lambda x: x.value_counts().index[0])"
   ]
  },
  {
   "cell_type": "markdown",
   "metadata": {},
   "source": [
    "#### Employment status by country:"
   ]
  },
  {
   "cell_type": "code",
   "execution_count": 4,
   "metadata": {
    "collapsed": false
   },
   "outputs": [
    {
     "name": "stdout",
     "output_type": "stream",
     "text": [
      "        Country  Employment  Number of people\n",
      "0       Austria           0                17\n",
      "1       Austria           1               147\n",
      "2       Belgium           0               134\n",
      "3       Belgium           1               777\n",
      "4       Denmark           0                65\n",
      "5       Denmark           1              1057\n",
      "6        France           0                80\n",
      "7        France           1               804\n",
      "8       Germany           0               127\n",
      "9       Germany           1               693\n",
      "10        Italy           0                39\n",
      "11        Italy           1               514\n",
      "12  Netherlands           0                29\n",
      "13  Netherlands           1               792\n",
      "14        Spain           0                61\n",
      "15        Spain           1               422\n",
      "16       Sweden           0                39\n",
      "17       Sweden           1               929\n",
      "18  Switzerland           0                22\n",
      "19  Switzerland           1               557\n"
     ]
    }
   ],
   "source": [
    "# Grouping data based on the country and employment status\n",
    "grouped_data = pd.DataFrame(data.groupby(['country', 'emp']).size()).reset_index()\n",
    "grouped_data.columns = ['Country', 'Employment', 'Number of people']\n",
    "print grouped_data\n",
    "\n",
    "data_unemployed = grouped_data[grouped_data.Employment==0].reset_index().drop('index', 1)\n",
    "data_unemployed.columns = ['Country', 'Employment', 'Count']\n",
    "data_employed = grouped_data[grouped_data.Employment==1].reset_index().drop('index', 1)\n",
    "data_employed.columns = ['Country', 'Employment', 'Count']"
   ]
  },
  {
   "cell_type": "code",
   "execution_count": 5,
   "metadata": {
    "collapsed": false
   },
   "outputs": [
    {
     "data": {
      "image/png": "[encoded data removed]",
      "text/plain": [
       "<matplotlib.figure.Figure at 0xcfc3630>"
      ]
     },
     "metadata": {},
     "output_type": "display_data"
    }
   ],
   "source": [
    "# Count the number of people employed and unemployed in each country\n",
    "countries = grouped_data.Country.unique()\n",
    "num_countries = len(countries)\n",
    "ind = np.arange(num_countries)\n",
    "unemployed = data_unemployed.Count\n",
    "employed = data_employed.Count\n",
    "\n",
    "# Plot bar graph of the number of people employed and unemployed in each country\n",
    "plt.figure(figsize=(12,8))\n",
    "p1 = plt.bar(ind, employed + unemployed, color='LightSeaGreen',align='center')\n",
    "p2 = plt.bar(ind, unemployed, color='red', align='center')\n",
    "\n",
    "plt.ylabel('Number of people')\n",
    "plt.title('People employed and unemployed')\n",
    "plt.xticks(ind, countries)\n",
    "plt.legend((p1[0], p2[0]), ('employed', 'unemployed'))\n",
    "plt.axis([-1, 10, 0, 1200])\n",
    "plt.show()"
   ]
  },
  {
   "cell_type": "code",
   "execution_count": 6,
   "metadata": {
    "collapsed": false
   },
   "outputs": [
    {
     "data": {
      "text/html": [
       "<div>\n",
       "<table border=\"1\" class=\"dataframe\">\n",
       "  <thead>\n",
       "    <tr style=\"text-align: right;\">\n",
       "      <th></th>\n",
       "      <th>Country</th>\n",
       "      <th>Size</th>\n",
       "      <th>% employed</th>\n",
       "      <th>% unemployed</th>\n",
       "    </tr>\n",
       "  </thead>\n",
       "  <tbody>\n",
       "    <tr>\n",
       "      <th>0</th>\n",
       "      <td>Austria</td>\n",
       "      <td>164</td>\n",
       "      <td>89.63</td>\n",
       "      <td>10.37</td>\n",
       "    </tr>\n",
       "    <tr>\n",
       "      <th>1</th>\n",
       "      <td>Belgium</td>\n",
       "      <td>911</td>\n",
       "      <td>85.29</td>\n",
       "      <td>14.71</td>\n",
       "    </tr>\n",
       "    <tr>\n",
       "      <th>2</th>\n",
       "      <td>Denmark</td>\n",
       "      <td>1122</td>\n",
       "      <td>94.21</td>\n",
       "      <td>5.79</td>\n",
       "    </tr>\n",
       "    <tr>\n",
       "      <th>3</th>\n",
       "      <td>France</td>\n",
       "      <td>884</td>\n",
       "      <td>90.95</td>\n",
       "      <td>9.05</td>\n",
       "    </tr>\n",
       "    <tr>\n",
       "      <th>4</th>\n",
       "      <td>Germany</td>\n",
       "      <td>820</td>\n",
       "      <td>84.51</td>\n",
       "      <td>15.49</td>\n",
       "    </tr>\n",
       "    <tr>\n",
       "      <th>5</th>\n",
       "      <td>Italy</td>\n",
       "      <td>553</td>\n",
       "      <td>92.95</td>\n",
       "      <td>7.05</td>\n",
       "    </tr>\n",
       "    <tr>\n",
       "      <th>6</th>\n",
       "      <td>Netherlands</td>\n",
       "      <td>821</td>\n",
       "      <td>96.47</td>\n",
       "      <td>3.53</td>\n",
       "    </tr>\n",
       "    <tr>\n",
       "      <th>7</th>\n",
       "      <td>Spain</td>\n",
       "      <td>483</td>\n",
       "      <td>87.37</td>\n",
       "      <td>12.63</td>\n",
       "    </tr>\n",
       "    <tr>\n",
       "      <th>8</th>\n",
       "      <td>Sweden</td>\n",
       "      <td>968</td>\n",
       "      <td>95.97</td>\n",
       "      <td>4.03</td>\n",
       "    </tr>\n",
       "    <tr>\n",
       "      <th>9</th>\n",
       "      <td>Switzerland</td>\n",
       "      <td>579</td>\n",
       "      <td>96.20</td>\n",
       "      <td>3.80</td>\n",
       "    </tr>\n",
       "  </tbody>\n",
       "</table>\n",
       "</div>"
      ],
      "text/plain": [
       "       Country  Size  % employed  % unemployed\n",
       "0      Austria   164       89.63         10.37\n",
       "1      Belgium   911       85.29         14.71\n",
       "2      Denmark  1122       94.21          5.79\n",
       "3       France   884       90.95          9.05\n",
       "4      Germany   820       84.51         15.49\n",
       "5        Italy   553       92.95          7.05\n",
       "6  Netherlands   821       96.47          3.53\n",
       "7        Spain   483       87.37         12.63\n",
       "8       Sweden   968       95.97          4.03\n",
       "9  Switzerland   579       96.20          3.80"
      ]
     },
     "execution_count": 6,
     "metadata": {},
     "output_type": "execute_result"
    }
   ],
   "source": [
    "# Calculate the percentage of unemployed and employed in each country (round up to 2 decimal places)\n",
    "country_size = pd.DataFrame(data.groupby(['country']).size()).reset_index()\n",
    "country_size.columns = ['Country', 'Size']\n",
    "country_size['% employed'] = (data_employed['Count']/country_size['Size']) * 100\n",
    "country_size['% unemployed'] = (data_unemployed['Count']/country_size['Size']) * 100\n",
    "country_size = country_size.round(2)\n",
    "country_size"
   ]
  },
  {
   "cell_type": "code",
   "execution_count": 7,
   "metadata": {
    "collapsed": false
   },
   "outputs": [
    {
     "data": {
      "image/png": "[encoded data removed]",
      "text/plain": [
       "<matplotlib.figure.Figure at 0xcfa4b70>"
      ]
     },
     "metadata": {},
     "output_type": "display_data"
    }
   ],
   "source": [
    "# Calculate % employed and unemployed in each country\n",
    "countries = grouped_data.Country.unique()\n",
    "num_countries = len(countries)\n",
    "ind = np.arange(num_countries)\n",
    "unemployed = country_size['% unemployed']\n",
    "employed = country_size['% employed']\n",
    "\n",
    "# Plotting a graph of employment percentage\n",
    "fig = plt.figure(figsize=(12,8))\n",
    "p1 = plt.bar(ind, employed + unemployed, color='LightSeaGreen', align='center')\n",
    "p2 = plt.bar(ind, unemployed, color='Red', align='center')\n",
    "\n",
    "# Formatting the graph\n",
    "plt.ylabel('% of the polulation')\n",
    "plt.title('% Employed and Unemployed in each country')\n",
    "plt.xticks(ind, countries)\n",
    "plt.legend((p1[0], p2[0]), ('% employed', '% unemployed'))\n",
    "plt.axis([-1, 10, 0, 100])\n",
    "ax = fig.add_subplot(111)\n",
    "for p in ax.patches:\n",
    "    ax.annotate(str(p.get_height()), (p.get_x()+p.get_width()/3, p.get_height() * 1.05))\n",
    "plt.show()"
   ]
  },
  {
   "cell_type": "markdown",
   "metadata": {},
   "source": [
    "Bar graphs showing the number (graph above) and percentage (graph below) of the people employed and unemployed in each country\n",
    "The unemployment rate stands the highest in Germany while the least in The Netherlands. This contradicts when we compare unemployment in terms of number as Belgium is the country with most number of unemployed and Austria with the least. This can be due to the fact that the number of observations is not the same in all countries in the sample.\n",
    "\n",
    "#### Average years of education by country and by gender:"
   ]
  },
  {
   "cell_type": "code",
   "execution_count": 8,
   "metadata": {
    "collapsed": false
   },
   "outputs": [
    {
     "data": {
      "image/png": "[encoded data removed]",
      "text/plain": [
       "<matplotlib.figure.Figure at 0xcfc9080>"
      ]
     },
     "metadata": {},
     "output_type": "display_data"
    }
   ],
   "source": [
    "# Calculate average years of education by gender\n",
    "education_average = data.groupby(['country', 'female']).mean().reset_index()\n",
    "education_average_female = education_average[education_average.female==1].reset_index().drop('index', 1)\n",
    "education_average_male = education_average[education_average.female==0].reset_index().drop('index', 1)\n",
    "\n",
    "#Plotting bar graph for average years of education by gender\n",
    "fig, ax = plt.subplots(figsize=(12,8))\n",
    "\n",
    "#Grouping gender for each country to plot graph\n",
    "countries = grouped_data.Country.unique()\n",
    "num_countries = len(countries)\n",
    "ind = np.arange(num_countries)\n",
    "avg_female_edu = education_average_female.educ\n",
    "avg_male_edu = education_average_male.educ\n",
    "width = 0.35  \n",
    "\n",
    "f1 = ax.bar(ind, avg_female_edu, width, color='salmon', align='center')\n",
    "f2 = ax.bar(ind+width, avg_male_edu, width, color='MidnightBlue', align='center')\n",
    "\n",
    "ax.set_ylabel('Average years of education')\n",
    "ax.set_xticks(ind+width/2)\n",
    "ax.legend((f1[0], f2[0]), ('female', 'male'))\n",
    "ax.set_xticklabels(countries)\n",
    "plt.axis([-1, 10, 0, 20])\n",
    "plt.show()"
   ]
  },
  {
   "cell_type": "markdown",
   "metadata": {},
   "source": [
    "Bar graph showing the average education years for males and females in each country. The graph allows gender comparison in terms of the education level in each country. 4 out of the 10 countries show a significantly higher number of education years for males, 4 countries show female education years are higher while in 2 countries, the average years of education stand almost equal for males and females. Notably, Austria despite having a relatively fewer number of observations, has on average equal number of education years for males and females.\n",
    "\n",
    "#### We also check the average years of education by employment status and by gender:"
   ]
  },
  {
   "cell_type": "code",
   "execution_count": 9,
   "metadata": {
    "collapsed": false
   },
   "outputs": [
    {
     "data": {
      "image/png": "[encoded data removed]",
      "text/plain": [
       "<matplotlib.figure.Figure at 0xceadd30>"
      ]
     },
     "metadata": {},
     "output_type": "display_data"
    }
   ],
   "source": [
    "# Calculate average years of education by employment status\n",
    "data_average_educ = data.groupby(['country', 'emp']).mean().reset_index()\n",
    "data_average_education_employed = data_average_educ[data_average_educ.emp==1].reset_index().drop('index', 1)\n",
    "data_average_education_unemployed = data_average_educ[data_average_educ.emp==0].reset_index().drop('index', 1)\n",
    "\n",
    "avg_edu_emp = data_average_education_employed.educ\n",
    "avg_edu_unemp = data_average_education_unemployed.educ\n",
    "\n",
    "#Plotting box plot\n",
    "fig, ax = plt.subplots(figsize=(12,6))\n",
    "ax.boxplot([avg_edu_emp, avg_edu_unemp])\n",
    "ax.set_ylabel('Years of education')\n",
    "ax.set_xticklabels(('Employed', 'Unemployed'))\n",
    "plt.show()"
   ]
  },
  {
   "cell_type": "markdown",
   "metadata": {},
   "source": [
    "Box-plot showing the number of education years for the employed and unemployed subjects (plot above) and for males and females  (plot below) in the sample\n",
    "We can see that subjects who are employed, on average, tend to have a greater number of years of education. Also, as we check the difference between the two genders, the male subjects have a higher average of years of education than the female’s."
   ]
  },
  {
   "cell_type": "code",
   "execution_count": 10,
   "metadata": {
    "collapsed": false
   },
   "outputs": [
    {
     "data": {
      "image/png": "[encoded data removed]",
      "text/plain": [
       "<matplotlib.figure.Figure at 0xcfb5f60>"
      ]
     },
     "metadata": {},
     "output_type": "display_data"
    }
   ],
   "source": [
    "# Plotting boxplot of years of education by gender\n",
    "fig, ax = plt.subplots(figsize=(12,6))\n",
    "ax.boxplot([education_average_male.educ, education_average_female.educ])\n",
    "ax.set_ylabel('Years of education')\n",
    "ax.set_xticklabels(('male', 'female'))\n",
    "plt.show()"
   ]
  },
  {
   "cell_type": "markdown",
   "metadata": {},
   "source": [
    "### 2. OLS Regression<a id='OLS Regression'></a>\n",
    "From the simple descriptive statistics above, we can see there might be a relation between employment status and number of years of education completed. And since education usually happens before work, we will run a regression of *emp* on *educ*. First, we conduct a simple linear regression analysis using *educ* as the only independent variable. Then we run a multiple regression with other available covariates such as *female, age, hhsize, child* to check if they have any impact on *emp*, because we think that each of these factors might have causual effect on the current employment status of the subjects in the dataset.\n",
    "#### 2.1 Simple Linear Regression\n",
    "$$emp_i=\\beta_0 + \\beta_1 educ_i + \\epsilon_i$$\n",
    "We fit the linear model using statmodels:\n",
    "+ Describle the model\n",
    "+ Fit the model\n",
    "+ Inspect the results"
   ]
  },
  {
   "cell_type": "code",
   "execution_count": 11,
   "metadata": {
    "collapsed": false
   },
   "outputs": [
    {
     "name": "stdout",
     "output_type": "stream",
     "text": [
      "                            OLS Regression Results                            \n",
      "==============================================================================\n",
      "Dep. Variable:                    emp   R-squared:                       0.015\n",
      "Model:                            OLS   Adj. R-squared:                  0.015\n",
      "Method:                 Least Squares   F-statistic:                     113.3\n",
      "Date:                Mon, 30 Jan 2017   Prob (F-statistic):           2.85e-26\n",
      "Time:                        11:21:13   Log-Likelihood:                -938.26\n",
      "No. Observations:                7305   AIC:                             1881.\n",
      "Df Residuals:                    7303   BIC:                             1894.\n",
      "Df Model:                           1                                         \n",
      "Covariance Type:            nonrobust                                         \n",
      "==============================================================================\n",
      "                 coef    std err          t      P>|t|      [95.0% Conf. Int.]\n",
      "------------------------------------------------------------------------------\n",
      "Intercept      0.8074      0.011     75.432      0.000         0.786     0.828\n",
      "educ           0.0086      0.001     10.646      0.000         0.007     0.010\n",
      "==============================================================================\n",
      "Omnibus:                     4235.383   Durbin-Watson:                   1.862\n",
      "Prob(Omnibus):                  0.000   Jarque-Bera (JB):            24520.387\n",
      "Skew:                          -2.932   Prob(JB):                         0.00\n",
      "Kurtosis:                       9.794   Cond. No.                         44.3\n",
      "==============================================================================\n",
      "\n",
      "Warnings:\n",
      "[1] Standard Errors assume that the covariance matrix of the errors is correctly specified.\n"
     ]
    }
   ],
   "source": [
    "# Describe model\n",
    "mod = smf.ols(formula='emp ~ educ', data=data)     \n",
    "\n",
    "# Fit model\n",
    "slr = mod.fit()\n",
    "\n",
    "# Summarize model\n",
    "print slr.summary()"
   ]
  },
  {
   "cell_type": "markdown",
   "metadata": {
    "collapsed": false
   },
   "source": [
    "From the result of the simple regression above, we can see that $\\beta_0=0.8074 ; \\beta_1=0.0086$, and p-value = 0.000 so we can reject the null hypothesis of no effect, and *educ*'s coefficient is statistically significant at 99% confidence intervals. **The number of years of education do help explain the employment status.** However, the effect seems to be small, because 1 extra year of education only increases employment by 0.0086 (which is very small compared to the range from 0 to 1). Therefore, we suspect that there might be omitted variable bias. A multiple regression including other variables will be more practical since employment can be affected by other things in life, such as the subjects' age, gender, whether he/she has kids or not, etc. \n",
    "\n",
    "We create a fitted line plot for this model:"
   ]
  },
  {
   "cell_type": "code",
   "execution_count": 12,
   "metadata": {
    "collapsed": false
   },
   "outputs": [
    {
     "data": {
      "text/html": [
       "<iframe id=\"igraph\" scrolling=\"no\" style=\"border:none;\" seamless=\"seamless\" src=\"https://plot.ly/~BinhNguyen71/4.embed\" height=\"525px\" width=\"100%\"></iframe>"
      ],
      "text/plain": [
       "<plotly.tools.PlotlyDisplay object>"
      ]
     },
     "execution_count": 12,
     "metadata": {},
     "output_type": "execute_result"
    }
   ],
   "source": [
    "# Draw out data for emp and educ, as well as generate linear fit line of emp\n",
    "emp = data.emp\n",
    "educ = data.educ\n",
    "\n",
    "# Generated linear fit\n",
    "line = 0.0086*educ+0.8074\n",
    "\n",
    "# Creating the dataset, and generating the plot\n",
    "trace1 = go.Scatter(\n",
    "                  x=educ, \n",
    "                  y=emp, \n",
    "                  mode='markers',\n",
    "                  marker=go.Marker(color='rgb(255, 127, 14)'),\n",
    "                  name='Data'\n",
    "                  )\n",
    "\n",
    "trace2 = go.Scatter(\n",
    "                  x=educ, \n",
    "                  y=line, \n",
    "                  mode='lines',\n",
    "                  marker=go.Marker(color='rgb(31, 119, 180)'),\n",
    "                  name='Fit'\n",
    "                  )\n",
    "\n",
    "annotation = go.Annotation(\n",
    "                  x=15,\n",
    "                  y=0.6,\n",
    "                  text='$R^2 = 0.015, emp = 0.0086educ + 0.8074$',\n",
    "                  showarrow=False,\n",
    "                  font=go.Font(size=12)\n",
    "                  )\n",
    "layout = go.Layout(\n",
    "                title='Linear Fit in Simple Linear Regression',\n",
    "                plot_bgcolor='rgb(229, 229, 229)',\n",
    "                  xaxis=go.XAxis(zerolinecolor='rgb(255,255,255)', gridcolor='rgb(255,255,255)'),\n",
    "                  yaxis=go.YAxis(zerolinecolor='rgb(255,255,255)', gridcolor='rgb(255,255,255)'),\n",
    "                  annotations=[annotation]\n",
    "                )\n",
    "\n",
    "Plotdata = [trace1, trace2]\n",
    "fig = go.Figure(data=Plotdata, layout=layout)\n",
    "py.iplot(fig, filename='Linear-Fit-in-Simple-Linear-Regression')"
   ]
  },
  {
   "cell_type": "markdown",
   "metadata": {},
   "source": [
    "#### 2.2 Multiple Regression\n",
    "\n",
    "We run a multiple regression with all other factors as independent variables because we suspect that they can all contribute to a difference in the labor force participation of the subject. Moreover, since all the countries are mutually exclusive categories and employment may be influenced by this geographical variable, we use 9 dummy variables to represent the 10 countries in Western Europe in the data.\n",
    "\n",
    "$$emp_i=\\beta_0 + \\beta_1 educ_i + \\beta_2 female_i+ \\beta_3 age_i+ \\beta_4 hhsize_i+ \\beta_5 child_i+ \\sum_{i=0}^8 \\gamma_i C_i + \\epsilon_i$$\n",
    "\n",
    "|Dummy variable value|$C_0$|$C_1$|$C_2$|$C_3$|$C_4$|$C_5$|$C_6$|$C_7$|$C_8$|\n",
    "|:----:|:----:|:----:|:----:|:----:|:----:|:----:|:----:|:----:|:----:|\n",
    "|Austria|0|0|0|0|0|0|0|0|0|\n",
    "|Belgium|1|0|0|0|0|0|0|0|0|\n",
    "|Denmark|0|1|0|0|0|0|0|0|0|\n",
    "|France|0|0|1|0|0|0|0|0|0|\n",
    "|Germany|0|0|0|1|0|0|0|0|0|\n",
    "|Italy|0|0|0|0|1|0|0|0|0|\n",
    "|Netherlands|0|0|0|0|0|1|0|0|0|\n",
    "|Spain|0|0|0|0|0|0|1|0|0|\n",
    "|Sweden|0|0|0|0|0|0|0|1|0|\n",
    "|Switzerland|0|0|0|0|0|0|0|0|1|"
   ]
  },
  {
   "cell_type": "code",
   "execution_count": 13,
   "metadata": {
    "collapsed": false
   },
   "outputs": [
    {
     "data": {
      "text/html": [
       "<div>\n",
       "<table border=\"1\" class=\"dataframe\">\n",
       "  <thead>\n",
       "    <tr style=\"text-align: right;\">\n",
       "      <th></th>\n",
       "      <th>emp</th>\n",
       "      <th>female</th>\n",
       "      <th>age</th>\n",
       "      <th>educ</th>\n",
       "      <th>hhsize</th>\n",
       "      <th>child</th>\n",
       "      <th>Belgium</th>\n",
       "      <th>Denmark</th>\n",
       "      <th>France</th>\n",
       "      <th>Germany</th>\n",
       "      <th>Italy</th>\n",
       "      <th>Netherlands</th>\n",
       "      <th>Spain</th>\n",
       "      <th>Sweden</th>\n",
       "      <th>Switzerland</th>\n",
       "    </tr>\n",
       "  </thead>\n",
       "  <tbody>\n",
       "    <tr>\n",
       "      <th>count</th>\n",
       "      <td>7305.000000</td>\n",
       "      <td>7305.000000</td>\n",
       "      <td>7305.000000</td>\n",
       "      <td>7305.000000</td>\n",
       "      <td>7305.000000</td>\n",
       "      <td>7305.000000</td>\n",
       "      <td>7305.000000</td>\n",
       "      <td>7305.000000</td>\n",
       "      <td>7305.000000</td>\n",
       "      <td>7305.000000</td>\n",
       "      <td>7305.000000</td>\n",
       "      <td>7305.000000</td>\n",
       "      <td>7305.000000</td>\n",
       "      <td>7305.000000</td>\n",
       "      <td>7305.000000</td>\n",
       "    </tr>\n",
       "    <tr>\n",
       "      <th>mean</th>\n",
       "      <td>0.916085</td>\n",
       "      <td>0.507187</td>\n",
       "      <td>55.767379</td>\n",
       "      <td>12.634908</td>\n",
       "      <td>2.565229</td>\n",
       "      <td>2.106092</td>\n",
       "      <td>0.124709</td>\n",
       "      <td>0.153593</td>\n",
       "      <td>0.121013</td>\n",
       "      <td>0.112252</td>\n",
       "      <td>0.075702</td>\n",
       "      <td>0.112389</td>\n",
       "      <td>0.066119</td>\n",
       "      <td>0.132512</td>\n",
       "      <td>0.079261</td>\n",
       "    </tr>\n",
       "    <tr>\n",
       "      <th>std</th>\n",
       "      <td>0.277279</td>\n",
       "      <td>0.499983</td>\n",
       "      <td>4.790684</td>\n",
       "      <td>3.985183</td>\n",
       "      <td>1.098339</td>\n",
       "      <td>1.237245</td>\n",
       "      <td>0.330411</td>\n",
       "      <td>0.360583</td>\n",
       "      <td>0.326165</td>\n",
       "      <td>0.315698</td>\n",
       "      <td>0.264538</td>\n",
       "      <td>0.315866</td>\n",
       "      <td>0.248507</td>\n",
       "      <td>0.339070</td>\n",
       "      <td>0.270164</td>\n",
       "    </tr>\n",
       "    <tr>\n",
       "      <th>min</th>\n",
       "      <td>0.000000</td>\n",
       "      <td>0.000000</td>\n",
       "      <td>28.200000</td>\n",
       "      <td>0.000000</td>\n",
       "      <td>1.000000</td>\n",
       "      <td>0.000000</td>\n",
       "      <td>0.000000</td>\n",
       "      <td>0.000000</td>\n",
       "      <td>0.000000</td>\n",
       "      <td>0.000000</td>\n",
       "      <td>0.000000</td>\n",
       "      <td>0.000000</td>\n",
       "      <td>0.000000</td>\n",
       "      <td>0.000000</td>\n",
       "      <td>0.000000</td>\n",
       "    </tr>\n",
       "    <tr>\n",
       "      <th>25%</th>\n",
       "      <td>1.000000</td>\n",
       "      <td>0.000000</td>\n",
       "      <td>52.500000</td>\n",
       "      <td>10.000000</td>\n",
       "      <td>2.000000</td>\n",
       "      <td>1.000000</td>\n",
       "      <td>0.000000</td>\n",
       "      <td>0.000000</td>\n",
       "      <td>0.000000</td>\n",
       "      <td>0.000000</td>\n",
       "      <td>0.000000</td>\n",
       "      <td>0.000000</td>\n",
       "      <td>0.000000</td>\n",
       "      <td>0.000000</td>\n",
       "      <td>0.000000</td>\n",
       "    </tr>\n",
       "    <tr>\n",
       "      <th>50%</th>\n",
       "      <td>1.000000</td>\n",
       "      <td>1.000000</td>\n",
       "      <td>55.500000</td>\n",
       "      <td>13.000000</td>\n",
       "      <td>2.000000</td>\n",
       "      <td>2.000000</td>\n",
       "      <td>0.000000</td>\n",
       "      <td>0.000000</td>\n",
       "      <td>0.000000</td>\n",
       "      <td>0.000000</td>\n",
       "      <td>0.000000</td>\n",
       "      <td>0.000000</td>\n",
       "      <td>0.000000</td>\n",
       "      <td>0.000000</td>\n",
       "      <td>0.000000</td>\n",
       "    </tr>\n",
       "    <tr>\n",
       "      <th>75%</th>\n",
       "      <td>1.000000</td>\n",
       "      <td>1.000000</td>\n",
       "      <td>58.800000</td>\n",
       "      <td>15.000000</td>\n",
       "      <td>3.000000</td>\n",
       "      <td>3.000000</td>\n",
       "      <td>0.000000</td>\n",
       "      <td>0.000000</td>\n",
       "      <td>0.000000</td>\n",
       "      <td>0.000000</td>\n",
       "      <td>0.000000</td>\n",
       "      <td>0.000000</td>\n",
       "      <td>0.000000</td>\n",
       "      <td>0.000000</td>\n",
       "      <td>0.000000</td>\n",
       "    </tr>\n",
       "    <tr>\n",
       "      <th>max</th>\n",
       "      <td>1.000000</td>\n",
       "      <td>1.000000</td>\n",
       "      <td>85.400000</td>\n",
       "      <td>25.000000</td>\n",
       "      <td>9.000000</td>\n",
       "      <td>10.000000</td>\n",
       "      <td>1.000000</td>\n",
       "      <td>1.000000</td>\n",
       "      <td>1.000000</td>\n",
       "      <td>1.000000</td>\n",
       "      <td>1.000000</td>\n",
       "      <td>1.000000</td>\n",
       "      <td>1.000000</td>\n",
       "      <td>1.000000</td>\n",
       "      <td>1.000000</td>\n",
       "    </tr>\n",
       "  </tbody>\n",
       "</table>\n",
       "</div>"
      ],
      "text/plain": [
       "               emp       female          age         educ       hhsize  \\\n",
       "count  7305.000000  7305.000000  7305.000000  7305.000000  7305.000000   \n",
       "mean      0.916085     0.507187    55.767379    12.634908     2.565229   \n",
       "std       0.277279     0.499983     4.790684     3.985183     1.098339   \n",
       "min       0.000000     0.000000    28.200000     0.000000     1.000000   \n",
       "25%       1.000000     0.000000    52.500000    10.000000     2.000000   \n",
       "50%       1.000000     1.000000    55.500000    13.000000     2.000000   \n",
       "75%       1.000000     1.000000    58.800000    15.000000     3.000000   \n",
       "max       1.000000     1.000000    85.400000    25.000000     9.000000   \n",
       "\n",
       "             child      Belgium      Denmark       France      Germany  \\\n",
       "count  7305.000000  7305.000000  7305.000000  7305.000000  7305.000000   \n",
       "mean      2.106092     0.124709     0.153593     0.121013     0.112252   \n",
       "std       1.237245     0.330411     0.360583     0.326165     0.315698   \n",
       "min       0.000000     0.000000     0.000000     0.000000     0.000000   \n",
       "25%       1.000000     0.000000     0.000000     0.000000     0.000000   \n",
       "50%       2.000000     0.000000     0.000000     0.000000     0.000000   \n",
       "75%       3.000000     0.000000     0.000000     0.000000     0.000000   \n",
       "max      10.000000     1.000000     1.000000     1.000000     1.000000   \n",
       "\n",
       "             Italy  Netherlands        Spain       Sweden  Switzerland  \n",
       "count  7305.000000  7305.000000  7305.000000  7305.000000  7305.000000  \n",
       "mean      0.075702     0.112389     0.066119     0.132512     0.079261  \n",
       "std       0.264538     0.315866     0.248507     0.339070     0.270164  \n",
       "min       0.000000     0.000000     0.000000     0.000000     0.000000  \n",
       "25%       0.000000     0.000000     0.000000     0.000000     0.000000  \n",
       "50%       0.000000     0.000000     0.000000     0.000000     0.000000  \n",
       "75%       0.000000     0.000000     0.000000     0.000000     0.000000  \n",
       "max       1.000000     1.000000     1.000000     1.000000     1.000000  "
      ]
     },
     "execution_count": 13,
     "metadata": {},
     "output_type": "execute_result"
    }
   ],
   "source": [
    "# creating country dummies and get rid of 1 dummy variable to avoid the dummy variable trap\n",
    "country_dummies = pd.get_dummies(data['country'], drop_first=True)\n",
    "\n",
    "#Creating a clean data frame for regression\n",
    "cols_to_keep = ['emp','female','age','educ','hhsize','child']\n",
    "data_with_dummies = data[cols_to_keep].join(country_dummies)\n",
    "\n",
    "# Summarize and check the new data\n",
    "data_with_dummies.describe()"
   ]
  },
  {
   "cell_type": "markdown",
   "metadata": {},
   "source": [
    "We fit the linear model again:"
   ]
  },
  {
   "cell_type": "code",
   "execution_count": 14,
   "metadata": {
    "collapsed": false
   },
   "outputs": [
    {
     "name": "stdout",
     "output_type": "stream",
     "text": [
      "                            OLS Regression Results                            \n",
      "==============================================================================\n",
      "Dep. Variable:                    emp   R-squared:                       0.051\n",
      "Model:                            OLS   Adj. R-squared:                  0.050\n",
      "Method:                 Least Squares   F-statistic:                     28.19\n",
      "Date:                Mon, 30 Jan 2017   Prob (F-statistic):           2.13e-73\n",
      "Time:                        11:21:43   Log-Likelihood:                -801.93\n",
      "No. Observations:                7305   AIC:                             1634.\n",
      "Df Residuals:                    7290   BIC:                             1737.\n",
      "Df Model:                          14                                         \n",
      "Covariance Type:            nonrobust                                         \n",
      "======================================================================================\n",
      "                         coef    std err          t      P>|t|      [95.0% Conf. Int.]\n",
      "--------------------------------------------------------------------------------------\n",
      "Intercept              1.0103      0.049     20.659      0.000         0.914     1.106\n",
      "educ                   0.0087      0.001     10.424      0.000         0.007     0.010\n",
      "female                -0.0161      0.006     -2.480      0.013        -0.029    -0.003\n",
      "age                   -0.0039      0.001     -5.481      0.000        -0.005    -0.003\n",
      "hhsize                 0.0148      0.003      4.325      0.000         0.008     0.022\n",
      "child                 -0.0042      0.003     -1.482      0.138        -0.010     0.001\n",
      "country_dummies[0]    -0.0767      0.023     -3.320      0.001        -0.122    -0.031\n",
      "country_dummies[1]     0.0106      0.023      0.462      0.644        -0.034     0.056\n",
      "country_dummies[2]    -0.0189      0.023     -0.818      0.413        -0.064     0.026\n",
      "country_dummies[3]    -0.0826      0.023     -3.531      0.000        -0.128    -0.037\n",
      "country_dummies[4]     0.0081      0.024      0.334      0.739        -0.039     0.055\n",
      "country_dummies[5]     0.0411      0.023      1.766      0.077        -0.005     0.087\n",
      "country_dummies[6]    -0.0375      0.025     -1.529      0.126        -0.086     0.011\n",
      "country_dummies[7]     0.0500      0.023      2.167      0.030         0.005     0.095\n",
      "country_dummies[8]     0.0471      0.024      1.958      0.050     -5.93e-05     0.094\n",
      "==============================================================================\n",
      "Omnibus:                     4011.616   Durbin-Watson:                   1.916\n",
      "Prob(Omnibus):                  0.000   Jarque-Bera (JB):            21458.452\n",
      "Skew:                          -2.772   Prob(JB):                         0.00\n",
      "Kurtosis:                       9.307   Cond. No.                     1.26e+03\n",
      "==============================================================================\n",
      "\n",
      "Warnings:\n",
      "[1] Standard Errors assume that the covariance matrix of the errors is correctly specified.\n",
      "[2] The condition number is large, 1.26e+03. This might indicate that there are\n",
      "strong multicollinearity or other numerical problems.\n"
     ]
    }
   ],
   "source": [
    "# Describe model\n",
    "mod2 = smf.ols(formula='emp ~ educ + female + age + hhsize + child + country_dummies', data=data_with_dummies)    \n",
    "\n",
    "# Fit model\n",
    "mtr = mod2.fit()\n",
    "\n",
    "# Summarize model\n",
    "print mtr.summary()"
   ]
  },
  {
   "cell_type": "markdown",
   "metadata": {},
   "source": [
    "$$emp_i=1.0103+0.0087educ_i-0.0161female_i-0.0039age_i+0.0148hhsize_i-0.0042child_i-0.0767C_0+0.0106C_1-0.0189C_2-0.0826C_3+0.0081C_4+0.0411C_5-0.0375C_6+0.0500C_7+0.0471C_8+\\epsilon_i$$\n",
    "\n",
    "Again, the p-value of *educ* is 0.000. Therefore we can still conclude that *educ* is statistically significant at 99% confidence intervals and have **a positive effect on *emp***, although the effect is still small (1 extra year of education only increases employment by 0.0087). \n",
    "\n",
    "The fitted line plot for this model is generated below:"
   ]
  },
  {
   "cell_type": "code",
   "execution_count": 15,
   "metadata": {
    "collapsed": false
   },
   "outputs": [
    {
     "data": {
      "text/html": [
       "<iframe id=\"igraph\" scrolling=\"no\" style=\"border:none;\" seamless=\"seamless\" src=\"https://plot.ly/~BinhNguyen71/8.embed\" height=\"525px\" width=\"100%\"></iframe>"
      ],
      "text/plain": [
       "<plotly.tools.PlotlyDisplay object>"
      ]
     },
     "execution_count": 15,
     "metadata": {},
     "output_type": "execute_result"
    }
   ],
   "source": [
    "# Draw out data for emp and educ, as well as generate linear fit line of emp\n",
    "emp1 = data_with_dummies.emp\n",
    "educ1 = data_with_dummies.educ\n",
    "female = data_with_dummies.female\n",
    "age = data_with_dummies.age\n",
    "hhsize = data_with_dummies.hhsize\n",
    "child = data_with_dummies.child\n",
    "Belgium = data_with_dummies.Belgium\n",
    "Denmark = data_with_dummies.Denmark\n",
    "France = data_with_dummies.France\n",
    "Germany = data_with_dummies.Germany\n",
    "Italy = data_with_dummies.Italy\n",
    "Netherlands = data_with_dummies.Netherlands\n",
    "Spain = data_with_dummies.Spain\n",
    "Sweden = data_with_dummies.Sweden\n",
    "Switzerland = data_with_dummies.Switzerland\n",
    "\n",
    "# Generated linear fit, and rearrange data by educ and the prediction value of emp (for a clear plot)\n",
    "line1=1.0103+0.0087*educ1-0.0161*female-0.0039*age+0.0148*hhsize-0.0042*child-0.0767*Belgium+0.0106*Denmark-0.0189*France-0.0826*Germany+0.0081*Italy +0.0411*Netherlands -0.0375*Spain+0.0500*Sweden +0.0471*Switzerland \n",
    "data_with_dummies_fit = pd.concat ([data_with_dummies,line1], axis=1)\n",
    "data_with_dummies_fit.columns.values[15] = 'line1'\n",
    "sorted_data = data_with_dummies_fit.sort_values(by=['educ','line1'])\n",
    "emp1 = sorted_data.emp\n",
    "educ1 = sorted_data.educ\n",
    "line1 = sorted_data.line1\n",
    "\n",
    "# Generating the plot with scattered points and fitted line\n",
    "trace3 = go.Scatter(\n",
    "                  x=educ1, \n",
    "                  y=emp1, \n",
    "                  mode='markers',\n",
    "                  marker=go.Marker(color='rgb(255, 127, 14)'),\n",
    "                  name='Data'\n",
    "                  )\n",
    "\n",
    "trace4 = go.Scatter(\n",
    "                  x=educ1, \n",
    "                  y=line1, \n",
    "                  mode='lines',\n",
    "                  marker=go.Marker(color='rgb(31, 119, 180)'),\n",
    "                  name='Fit'\n",
    "                  )\n",
    "\n",
    "layout1 = go.Layout(\n",
    "                title='Linear Fit in Multiple Linear Regression',\n",
    "                plot_bgcolor='rgb(229, 229, 229)',\n",
    "                  xaxis=go.XAxis(zerolinecolor='rgb(255,255,255)', gridcolor='rgb(255,255,255)'),\n",
    "                  yaxis=go.YAxis(zerolinecolor='rgb(255,255,255)', gridcolor='rgb(255,255,255)'),\n",
    "                )\n",
    "\n",
    "Plotdata1 = [trace3, trace4]\n",
    "fig1 = go.Figure(data=Plotdata1, layout=layout1)\n",
    "py.iplot(fig1, filename='Linear-Fit-in-Multiple-Linear-Regression')"
   ]
  },
  {
   "cell_type": "code",
   "execution_count": 17,
   "metadata": {
    "collapsed": false
   },
   "outputs": [
    {
     "name": "stdout",
     "output_type": "stream",
     "text": [
      "   emp  female   age  educ  hhsize  child  Belgium  Denmark  France  Germany  \\\n",
      "0    1       1  51.7   3.0       2      4      0.0      0.0     0.0      0.0   \n",
      "1    1       0  58.8   8.0       3      2      0.0      0.0     0.0      0.0   \n",
      "2    1       1  53.1   8.0       2      1      0.0      0.0     0.0      0.0   \n",
      "3    1       0  61.3  17.0       2      0      0.0      0.0     0.0      0.0   \n",
      "4    1       0  63.6   5.0       4      2      0.0      0.0     0.0      0.0   \n",
      "\n",
      "   Italy  Netherlands  Spain  Sweden  Switzerland  \n",
      "0    0.0          0.0    0.0     0.0          0.0  \n",
      "1    0.0          0.0    0.0     0.0          0.0  \n",
      "2    0.0          0.0    0.0     0.0          0.0  \n",
      "3    0.0          0.0    0.0     0.0          0.0  \n",
      "4    0.0          0.0    0.0     0.0          0.0  \n"
     ]
    }
   ],
   "source": [
    "print data_with_dummies.head()"
   ]
  },
  {
   "cell_type": "markdown",
   "metadata": {},
   "source": [
    "### 3. Logistic regression<a id='Logistic Regression'></a>\n",
    "\n",
    "Because the dependent variable *emp* is binary (only take value 0 or 1), a logistic regression is a better model to analyze the effect of education on the labor force participation. We still use the dummy variables for each countries created in section 2.2 multiple OLS regression. For this particular regression, we focus our attention to how probability of employment changes across countries, we leave gender out of this regression. Therefore, we use the country dummies (Austria as baseline), education years, age of individual and household size as our independent variables. The regression is conducted below:"
   ]
  },
  {
   "cell_type": "code",
   "execution_count": 19,
   "metadata": {
    "collapsed": false
   },
   "outputs": [
    {
     "name": "stdout",
     "output_type": "stream",
     "text": [
      "Optimization terminated successfully.\n",
      "         Current function value: 0.262248\n",
      "         Iterations 7\n",
      "                           Logit Regression Results                           \n",
      "==============================================================================\n",
      "Dep. Variable:                    emp   No. Observations:                 7305\n",
      "Model:                          Logit   Df Residuals:                     7292\n",
      "Method:                           MLE   Df Model:                           12\n",
      "Date:                Mon, 30 Jan 2017   Pseudo R-squ.:                 0.09014\n",
      "Time:                        11:25:20   Log-Likelihood:                -1915.7\n",
      "converged:                       True   LL-Null:                       -2105.5\n",
      "                                        LLR p-value:                 7.906e-74\n",
      "===============================================================================\n",
      "                  coef    std err          z      P>|z|      [95.0% Conf. Int.]\n",
      "-------------------------------------------------------------------------------\n",
      "age            -0.0524      0.010     -5.438      0.000        -0.071    -0.033\n",
      "educ            0.1285      0.012     10.458      0.000         0.104     0.153\n",
      "hhsize          0.2123      0.046      4.631      0.000         0.122     0.302\n",
      "Belgium        -0.9450      0.283     -3.341      0.001        -1.499    -0.391\n",
      "Denmark         0.0272      0.300      0.091      0.928        -0.560     0.615\n",
      "France         -0.3704      0.291     -1.274      0.203        -0.940     0.199\n",
      "Germany        -1.0085      0.286     -3.522      0.000        -1.570    -0.447\n",
      "Italy           0.0962      0.313      0.308      0.758        -0.517     0.710\n",
      "Netherlands     0.7324      0.326      2.245      0.025         0.093     1.372\n",
      "Spain          -0.3879      0.299     -1.299      0.194        -0.973     0.197\n",
      "Sweden          0.7532      0.313      2.404      0.016         0.139     1.367\n",
      "Switzerland     0.8616      0.343      2.513      0.012         0.190     1.534\n",
      "intercept       3.4865      0.641      5.437      0.000         2.230     4.743\n",
      "===============================================================================\n"
     ]
    }
   ],
   "source": [
    "#Manually adding the intercept (as required in the logistic model)\n",
    "data_with_dummies['intercept'] = 1.0\n",
    "\n",
    "#Specifying columns needed for regression\n",
    "data_with_dummies.columns[[2,3,4,6,7,8,9,10,11,12,13,14,15]]\n",
    "reg_cols=data_with_dummies.columns[[2,3,4,6,7,8,9,10,11,12,13,14,15]]\n",
    "\n",
    "#Fit the model and show result\n",
    "lr_model = smf.Logit(data_with_dummies['emp'], data_with_dummies[reg_cols])\n",
    "result = lr_model.fit()\n",
    "print result.summary()"
   ]
  },
  {
   "cell_type": "markdown",
   "metadata": {},
   "source": [
    "The result from this model also allows us to isolate and inspect parts of the model output. The confidence interval gives you an idea for how robust the coefficients of the model are. In our model, we are very confident that there is an positive relationship between the probability of being employed and the years of education attained. **In other words, the probability of being employed is higher for higher number of years.** The confidence intervals of all the coefficients are as follows:"
   ]
  },
  {
   "cell_type": "code",
   "execution_count": 20,
   "metadata": {
    "collapsed": false
   },
   "outputs": [
    {
     "name": "stdout",
     "output_type": "stream",
     "text": [
      "                    0         1\n",
      "age         -0.071229 -0.033490\n",
      "educ         0.104388  0.152539\n",
      "hhsize       0.122449  0.302149\n",
      "Belgium     -1.499225 -0.390690\n",
      "Denmark     -0.560248  0.614741\n",
      "France      -0.940284  0.199384\n",
      "Germany     -1.569759 -0.447295\n",
      "Italy       -0.517030  0.709507\n",
      "Netherlands  0.093042  1.371802\n",
      "Spain       -0.973050  0.197295\n",
      "Sweden       0.139176  1.367142\n",
      "Switzerland  0.189614  1.533569\n",
      "intercept    2.229776  4.743243\n"
     ]
    }
   ],
   "source": [
    "#Confidence intervals\n",
    "print result.conf_int()"
   ]
  },
  {
   "cell_type": "markdown",
   "metadata": {},
   "source": [
    "We take the exponential of each of the coefficients to generate the odds ratios. This tells you how a 1 unit increase or decrease in a variable affects the odds of being employed. For instance, in our data, **the odds of being in the labor force decrease 94% as the person gets older.** by Moreover, the odds of being employed increase over a 100% with greater number of years of education. The result are as follows."
   ]
  },
  {
   "cell_type": "code",
   "execution_count": 21,
   "metadata": {
    "collapsed": false
   },
   "outputs": [
    {
     "name": "stdout",
     "output_type": "stream",
     "text": [
      "age             0.948988\n",
      "educ            1.137080\n",
      "hhsize          1.236518\n",
      "Belgium         0.388696\n",
      "Denmark         1.027621\n",
      "France          0.690424\n",
      "Germany         0.364756\n",
      "Italy           1.101022\n",
      "Netherlands     2.080113\n",
      "Spain           0.678496\n",
      "Sweden          2.123698\n",
      "Switzerland     2.366924\n",
      "intercept      32.671700\n",
      "dtype: float64\n"
     ]
    }
   ],
   "source": [
    "# odds ratios only\n",
    "print np.exp(result.params)"
   ]
  },
  {
   "cell_type": "markdown",
   "metadata": {},
   "source": [
    "### Predictions\n",
    "\n",
    "Furthermore, we can use our model to predict how probability of employment would change. To do that, we have to come up with all possible combinations of input values. We will use a helper function called cartesian , which can be found here: https://gist.github.com/glamp/5077283"
   ]
  },
  {
   "cell_type": "code",
   "execution_count": 22,
   "metadata": {
    "collapsed": true
   },
   "outputs": [],
   "source": [
    "def cartesian(arrays, out=None):\n",
    "    arrays = [np.asarray(x) for x in arrays]\n",
    "    dtype = arrays[0].dtype\n",
    "\n",
    "    n = np.prod([x.size for x in arrays])\n",
    "    if out is None:\n",
    "        out = np.zeros([n, len(arrays)], dtype=dtype)\n",
    "\n",
    "    m = n / arrays[0].size\n",
    "    out[:,0] = np.repeat(arrays[0], m)\n",
    "    if arrays[1:]:\n",
    "        cartesian(arrays[1:], out=out[0:m,1:])\n",
    "        for j in xrange(1, arrays[0].size):\n",
    "            out[j*m:(j+1)*m,1:] = out[0:m,1:]\n",
    "    return out"
   ]
  },
  {
   "cell_type": "markdown",
   "metadata": {},
   "source": [
    "Next, we are going to create a range of values for our independent variables, namely *educ*,*age* and *hhsize*. We make use of another function called np.linspace. This gives us all possible values using the observed min/max values of each of the above mentioned variables."
   ]
  },
  {
   "cell_type": "code",
   "execution_count": 23,
   "metadata": {
    "collapsed": false
   },
   "outputs": [
    {
     "name": "stdout",
     "output_type": "stream",
     "text": [
      "   educ   age  hhsize  country  intercept  Belgium  Denmark  France  Germany  \\\n",
      "0   0.0  28.2     1.0      1.0        1.0      0.0      0.0     0.0      0.0   \n",
      "1   0.0  28.2     1.0      2.0        1.0      1.0      0.0     0.0      0.0   \n",
      "2   0.0  28.2     1.0      3.0        1.0      0.0      1.0     0.0      0.0   \n",
      "3   0.0  28.2     1.0      4.0        1.0      0.0      0.0     1.0      0.0   \n",
      "4   0.0  28.2     1.0      5.0        1.0      0.0      0.0     0.0      1.0   \n",
      "\n",
      "   Italy  Netherlands  Spain  Sweden  Switzerland  emp_pred  \n",
      "0    0.0          0.0    0.0     0.0          0.0  0.902232  \n",
      "1    0.0          0.0    0.0     0.0          0.0  0.781992  \n",
      "2    0.0          0.0    0.0     0.0          0.0  0.904609  \n",
      "3    0.0          0.0    0.0     0.0          0.0  0.864341  \n",
      "4    0.0          0.0    0.0     0.0          0.0  0.770961  \n"
     ]
    }
   ],
   "source": [
    "#Generating all possible values\n",
    "educs = np.linspace(data_with_dummies['educ'].min(), data_with_dummies['educ'].max())\n",
    "ages = np.linspace(data_with_dummies['age'].min(), data_with_dummies['age'].max())\n",
    "hhsizes = np.linspace(data_with_dummies['hhsize'].min(), data_with_dummies['hhsize'].max())\n",
    "\n",
    "#Compute all possibilities\n",
    "combos = pd.DataFrame(cartesian([educs, ages, hhsizes, [1, 2, 3, 4,5,6,7,8,9,10], [1.]]))\n",
    "\n",
    "#Re-create the country dummies\n",
    "combos.columns = ['educ', 'age', 'hhsize', 'country', 'intercept']\n",
    "country_dummy = pd.get_dummies(combos['country'])\n",
    "country_dummy.columns = ['Austria', 'Belgium','Denmark','France','Germany','Italy','Netherlands','Spain','Sweden','Switzerland']\n",
    "\n",
    "\n",
    "#Keeping only what's needed to make the prediction\n",
    "cols_to_keep = ['educ', 'age', 'hhsize', 'country', 'intercept']\n",
    "combos = combos[cols_to_keep].join(country_dummy.ix[:, 'Belgium':])\n",
    "\n",
    "#Make predictions\n",
    "combos['emp_pred'] = result.predict(combos[reg_cols])\n",
    "print combos.head()"
   ]
  },
  {
   "cell_type": "markdown",
   "metadata": {},
   "source": [
    "Once, we have our potential employment probabilities, we want to make a plot to visualize our results. For this we utilize a helper function “isolate and plot”. This allows us to compare the education years attained in each country and the mean probability of being employed. In order to isolate by each country, we used a pivot_table, which lets us to combine the data together."
   ]
  },
  {
   "cell_type": "code",
   "execution_count": 52,
   "metadata": {
    "collapsed": false
   },
   "outputs": [],
   "source": [
    "def isolate_and_plot(variable):\n",
    "    # isolate gre and class rank\n",
    "    grouped = pd.pivot_table(combos, values=['emp_pred'], index=[variable, 'country'],\n",
    "                            aggfunc=np.mean)\n",
    "\n",
    "    colors = 'bgrcmykwgbr'\n",
    "    plt.figure(figsize=(12, 8))\n",
    "    for col in combos.country.unique():\n",
    "        plt_data = grouped.ix[grouped.index.get_level_values(1)==col]\n",
    "        plt.plot(plt_data.index.get_level_values(0), plt_data['emp_pred'],\n",
    "        color=colors[int(col)])\n",
    "    plt.xlabel(variable)\n",
    "    plt.ylabel(\"P(emp=1)\")\n",
    "    plt.legend(['Austria', 'Belgium','Denmark','France','Germany','Italy','Netherlands','Spain','Sweden','Switzerland'], loc='lower right', title='Country')\n",
    "    plt.title(\"Prob(emp=1) isolating \" + variable + \" and country\")\n",
    "    plt.show()"
   ]
  },
  {
   "cell_type": "code",
   "execution_count": 53,
   "metadata": {
    "collapsed": false
   },
   "outputs": [
    {
     "data": {
      "image/png": "[encoded data removed]",
      "text/plain": [
       "<matplotlib.figure.Figure at 0x11e17400>"
      ]
     },
     "metadata": {},
     "output_type": "display_data"
    }
   ],
   "source": [
    "isolate_and_plot('educ')"
   ]
  },
  {
   "cell_type": "markdown",
   "metadata": {},
   "source": [
    "The above plot clearly shows education in countries affects the levels of employment. The probability of being employed gradually increases as level of education rises."
   ]
  },
  {
   "cell_type": "markdown",
   "metadata": {},
   "source": [
    "## VII. Conclusion\n",
    "\n",
    "Keeping all of the above in mind, we can conclude that an increase in education years lead to an eventual increase in labor force participation (an increase of 0.0087). Moreover, it is apparent that people who attain higher levels of education are more likely to be employed. These findings are consistent with the existing literature and prove that the results can be generalized to some extent to different countries. These results have direct policy implications for the government to undertake. For instance, employment policies should be carefully planned and implemented. The society should be made more aware of educating their women and be informed of the importance of female labor force participation. \n",
    "Even though in our data the difference in education and employment opportunities between countries is not that evident, however that maybe due to the fact that we only consider Western European countries which are all developed nations\n",
    "In conclusion, special emphasis should be put on attaining education so that more people become a part of the labor force which, in the long run would boost the growth of the economy. \n",
    "\n"
   ]
  },
  {
   "cell_type": "markdown",
   "metadata": {},
   "source": [
    "## VIII. Reference <a id='Reference'></a>\n",
    "\n",
    "1. [Leo Vance, Nicholas Stoney, Steven Kennedy, 2009, Labour force participation and the influence of educational attainment , Department of the Treasury (Australia).](http://web.archive.org/web/20090929123452/http://www.treasury.gov.au/documents/1633/PDF/2_Labour_force.pdf)\n",
    "2. [Edward Bbaale, Paul Mpuga, 2011, Female Education, Contraceptive Use, and Fertility: Evidence from Uganda, Columbia University Academic Commons.](http://www.consiliencejournal.org/index.php/consilience/article/viewFile/234/79)\n",
    "3. [Börsch-Supan, A., C. Hunkler, S. Gruber, A. Orban, S. Stuck, M. Brandt (2016). easySHARE. Release version: 5.0.0. SHARE-ERIC. Data set DOI: 10.6103/SHARE.easy.500.](http://www.share-project.org/data-access-documentation/easyshare.html)"
   ]
  }
 ],
 "metadata": {
  "anaconda-cloud": {},
  "kernelspec": {
   "display_name": "Python [Root]",
   "language": "python",
   "name": "Python [Root]"
  },
  "language_info": {
   "codemirror_mode": {
    "name": "ipython",
    "version": 2
   },
   "file_extension": ".py",
   "mimetype": "text/x-python",
   "name": "python",
   "nbconvert_exporter": "python",
   "pygments_lexer": "ipython2",
   "version": "2.7.12"
  }
 },
 "nbformat": 4,
 "nbformat_minor": 0
}
